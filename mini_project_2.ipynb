{
  "nbformat": 4,
  "nbformat_minor": 0,
  "metadata": {
    "colab": {
      "provenance": [],
      "include_colab_link": true
    },
    "kernelspec": {
      "name": "python3",
      "display_name": "Python 3"
    },
    "language_info": {
      "name": "python"
    }
  },
  "cells": [
    {
      "cell_type": "markdown",
      "metadata": {
        "id": "view-in-github",
        "colab_type": "text"
      },
      "source": [
        "<a href=\"https://colab.research.google.com/github/abhinavgarg117/Mini--project-02-challenge-questions/blob/main/mini_project_2.ipynb\" target=\"_parent\"><img src=\"https://colab.research.google.com/assets/colab-badge.svg\" alt=\"Open In Colab\"/></a>"
      ]
    },
    {
      "cell_type": "markdown",
      "source": [
        "#CHALLENGE QUESTION"
      ],
      "metadata": {
        "id": "h97zVP3UDn8q"
      }
    },
    {
      "cell_type": "markdown",
      "source": [
        "1.Write a python program to sort the list of heterogeneus data.\n",
        "e.g.\n",
        "L=[\"Ram\",1,\"Sham\",2,\"Aman\",3]\n",
        "print(L)\n",
        "L.sort()\n",
        "print(L)\n",
        "#above code gives error.Correct it."
      ],
      "metadata": {
        "id": "pJyuW3fPCUQq"
      }
    },
    {
      "cell_type": "code",
      "source": [
        "L = [\"Ram\", 1, \"Sham\", 2, \"Aman\", 3]\n",
        "\n",
        "# Separate strings and integers\n",
        "strings = sorted([x for x in L if isinstance(x, str)])\n",
        "numbers = sorted([x for x in L if isinstance(x, int)])\n",
        "\n",
        "# Combine both sorted lists\n",
        "sorted_list = strings + numbers\n",
        "\n",
        "print(\"Original List:\", L)\n",
        "print(\"Sorted List:\", sorted_list)\n"
      ],
      "metadata": {
        "colab": {
          "base_uri": "https://localhost:8080/"
        },
        "id": "yZpJyNoQC5ia",
        "outputId": "27337a18-a612-45d5-dcf4-8ec8f4ee0cd6"
      },
      "execution_count": null,
      "outputs": [
        {
          "output_type": "stream",
          "name": "stdout",
          "text": [
            "Original List: ['Ram', 1, 'Sham', 2, 'Aman', 3]\n",
            "Sorted List: ['Aman', 'Ram', 'Sham', 1, 2, 3]\n"
          ]
        }
      ]
    }
  ]
}